{
 "cells": [
  {
   "cell_type": "code",
   "execution_count": 7,
   "metadata": {},
   "outputs": [
    {
     "name": "stdout",
     "output_type": "stream",
     "text": [
      "======\n",
      "Loading NuScenes tables for version v1.0-trainval...\n",
      "23 category,\n",
      "8 attribute,\n",
      "4 visibility,\n",
      "64386 instance,\n",
      "12 sensor,\n",
      "10200 calibrated_sensor,\n",
      "2631083 ego_pose,\n",
      "68 log,\n",
      "850 scene,\n",
      "34149 sample,\n",
      "2631083 sample_data,\n",
      "1166187 sample_annotation,\n",
      "4 map,\n",
      "Done loading in 21.806 seconds.\n",
      "======\n",
      "Reverse indexing ...\n",
      "Done reverse indexing in 4.6 seconds.\n",
      "======\n",
      "シーン数 850\n"
     ]
    }
   ],
   "source": [
    "from nuscenes.nuscenes import NuScenes\n",
    "import os\n",
    "from PIL import Image\n",
    "path = '/data/tieriv/dataset/nu_scenes/'\n",
    "nusc = NuScenes(version='v1.0-trainval', dataroot=path)\n",
    "scenes_list = nusc.scene\n",
    "num_scenes = len(scenes_list)\n",
    "print(\"シーン数\", num_scenes)"
   ]
  },
  {
   "cell_type": "code",
   "execution_count": 8,
   "metadata": {},
   "outputs": [
    {
     "name": "stderr",
     "output_type": "stream",
     "text": [
      "100%|██████████| 850/850 [13:41<00:00,  1.04it/s]\n"
     ]
    }
   ],
   "source": [
    "import cv2\n",
    "import numpy as np\n",
    "from tqdm import tqdm\n",
    "# 設定\n",
    "output_name = \"Cosmos/nuscenes_mp4/output\"\n",
    "frame_width = 1280\n",
    "frame_height = 720\n",
    "frame_rate = 12\n",
    "fourcc = cv2.VideoWriter.fourcc(*'mp4v')  # 'mp4v' or 'XVID'\n",
    "\n",
    "for scene_idx in tqdm(range(num_scenes)):\n",
    "    video_writer = cv2.VideoWriter(output_name + f'{scene_idx}.mp4', fourcc, frame_rate, (frame_width, frame_height))\n",
    "    scene = scenes_list[scene_idx]\n",
    "    length = scene['nbr_samples']\n",
    "    tmp_token = scene['first_sample_token']\n",
    "    for _ in range(length):\n",
    "        tmp_sample = nusc.get('sample', tmp_token)\n",
    "        tmp_token = tmp_sample['next']\n",
    "        sample_data = nusc.get('sample_data', tmp_sample['data']['CAM_FRONT'])\n",
    "        filename = sample_data['filename']\n",
    "        img_path = os.path.join(path, filename)\n",
    "        image = Image.open(img_path)\n",
    "        image = image.resize((frame_width, frame_height))\n",
    "        image = cv2.cvtColor(np.array(image), cv2.COLOR_RGB2BGR)\n",
    "        video_writer.write(image)\n",
    "    video_writer.release()"
   ]
  }
 ],
 "metadata": {
  "kernelspec": {
   "display_name": "make_data",
   "language": "python",
   "name": "python3"
  },
  "language_info": {
   "codemirror_mode": {
    "name": "ipython",
    "version": 3
   },
   "file_extension": ".py",
   "mimetype": "text/x-python",
   "name": "python",
   "nbconvert_exporter": "python",
   "pygments_lexer": "ipython3",
   "version": "3.10.12"
  }
 },
 "nbformat": 4,
 "nbformat_minor": 2
}
